{
  "nbformat": 4,
  "nbformat_minor": 0,
  "metadata": {
    "colab": {
      "name": "HW4_Covnet.ipynb",
      "provenance": [],
      "collapsed_sections": []
    },
    "kernelspec": {
      "name": "python3",
      "display_name": "Python 3"
    }
  },
  "cells": [
    {
      "cell_type": "markdown",
      "metadata": {
        "id": "4nGVJ-J4MKDM",
        "colab_type": "text"
      },
      "source": [
        "# A: Network Structure\n",
        "There are 8 layers in this network.  Out of the 8 layers, the 7 hidden layers are performing the RELU algorithm with 20 neurons in each layer.  Finally, there is an output layer with the L2 regression algorithm."
      ]
    },
    {
      "cell_type": "markdown",
      "metadata": {
        "id": "54SJWduqUl0M",
        "colab_type": "text"
      },
      "source": [
        "#B: Loss Meaning\n",
        "The Loss that's desribed in this demo comes from the regression layer described earlier.  The Loss function here is an L2 distance function as provided in the source code within ```covnet_layers_loss.js```:\n",
        "```\n",
        "  // implements an L2 regression cost layer,\n",
        "  // so penalizes \\sum_i(||x_i - y_i||^2), where x is its input\n",
        "  // and y is the user-provided array of \"correct\" values.\n",
        "  var RegressionLayer = function(opt) {\n",
        "```\n"
      ]
    },
    {
      "cell_type": "markdown",
      "metadata": {
        "id": "xKyupJv3ZZpI",
        "colab_type": "text"
      },
      "source": [
        "#C: Loss Over Time\n",
        "Chart of loss over time for 5000 cycles is shown in google sheet in code listing.  Graph was made using google sheets."
      ]
    },
    {
      "cell_type": "markdown",
      "metadata": {
        "id": "dYkMxeUpZfaW",
        "colab_type": "text"
      },
      "source": [
        "# D: Loss with Learning Rate Schedule\n",
        "See chart of loss over time with learning rate schedule on google sheet in code listing."
      ]
    },
    {
      "cell_type": "markdown",
      "metadata": {
        "id": "Yh9R0FFDiE8y",
        "colab_type": "text"
      },
      "source": [
        "#E: Lesion Study\n",
        "The text box contains a small snippet of Javascript code that initializes the network. You can change the network structure by clicking the “Reload network” button, which\n",
        "simply evaluates the code. Let’s perform some brain surgery: Try commenting out each layer,\n",
        "one by one. Report some results: How many layers can you drop before the accuracy drops\n",
        "below a useful value? How few hidden units can you get away with before quality drops noticeably?"
      ]
    },
    {
      "cell_type": "markdown",
      "metadata": {
        "id": "XMK4-TcfwLzG",
        "colab_type": "text"
      },
      "source": [
        "\n",
        "Original Network\n",
        "```\n",
        "layer_defs = [];\n",
        "layer_defs.push({type:'input', out_sx:1, out_sy:1, out_depth:2}); // 2 inputs: x, y \n",
        "layer_defs.push({type:'fc', num_neurons:20, activation:'relu'});\n",
        "layer_defs.push({type:'fc', num_neurons:20, activation:'relu'});\n",
        "layer_defs.push({type:'fc', num_neurons:20, activation:'relu'});\n",
        "layer_defs.push({type:'fc', num_neurons:20, activation:'relu'});\n",
        "layer_defs.push({type:'fc', num_neurons:20, activation:'relu'});\n",
        "layer_defs.push({type:'fc', num_neurons:20, activation:'relu'});\n",
        "layer_defs.push({type:'fc', num_neurons:20, activation:'relu'});\n",
        "layer_defs.push({type:'regression', num_neurons:3}); // 3 outputs: r,g,b \n",
        "\n",
        "net = new convnetjs.Net();\n",
        "net.makeLayers(layer_defs);\n",
        "\n",
        "trainer = new convnetjs.SGDTrainer(net, {learning_rate:0.01, momentum:0.9, batch_size:5, l2_decay:0.0});\n",
        "\n",
        "```\n",
        "\n",
        "\n"
      ]
    },
    {
      "cell_type": "markdown",
      "metadata": {
        "id": "-VRZd0zbwSWb",
        "colab_type": "text"
      },
      "source": [
        "Network with 1 Lesion\n",
        "\n",
        "\n",
        "\n",
        "```\n",
        "layer_defs = [];\n",
        "layer_defs.push({type:'input', out_sx:1, out_sy:1, out_depth:2}); // 2 inputs: x, y \n",
        "layer_defs.push({type:'fc', num_neurons:20, activation:'relu'});\n",
        "layer_defs.push({type:'fc', num_neurons:20, activation:'relu'});\n",
        "layer_defs.push({type:'fc', num_neurons:20, activation:'relu'});\n",
        "layer_defs.push({type:'fc', num_neurons:20, activation:'relu'});\n",
        "layer_defs.push({type:'fc', num_neurons:20, activation:'relu'});\n",
        "layer_defs.push({type:'fc', num_neurons:20, activation:'relu'});\n",
        "// layer_defs.push({type:'fc', num_neurons:20, activation:'relu'});\n",
        "layer_defs.push({type:'regression', num_neurons:3}); // 3 outputs: r,g,b \n",
        "\n",
        "net = new convnetjs.Net();\n",
        "net.makeLayers(layer_defs);\n",
        "\n",
        "trainer = new convnetjs.SGDTrainer(net, {learning_rate:0.01, momentum:0.9, batch_size:5, l2_decay:0.0});\n",
        "\n",
        "```\n",
        "\n"
      ]
    },
    {
      "cell_type": "markdown",
      "metadata": {
        "id": "RQW4MhcSwXYb",
        "colab_type": "text"
      },
      "source": [
        "Network with 2 Lesions\n",
        "\n",
        "\n",
        "\n",
        "```\n",
        "layer_defs = [];\n",
        "layer_defs.push({type:'input', out_sx:1, out_sy:1, out_depth:2}); // 2 inputs: x, y \n",
        "layer_defs.push({type:'fc', num_neurons:20, activation:'relu'});\n",
        "layer_defs.push({type:'fc', num_neurons:20, activation:'relu'});\n",
        "layer_defs.push({type:'fc', num_neurons:20, activation:'relu'});\n",
        "layer_defs.push({type:'fc', num_neurons:20, activation:'relu'});\n",
        "layer_defs.push({type:'fc', num_neurons:20, activation:'relu'});\n",
        "// layer_defs.push({type:'fc', num_neurons:20, activation:'relu'});\n",
        "// layer_defs.push({type:'fc', num_neurons:20, activation:'relu'});\n",
        "layer_defs.push({type:'regression', num_neurons:3}); // 3 outputs: r,g,b \n",
        "\n",
        "net = new convnetjs.Net();\n",
        "net.makeLayers(layer_defs);\n",
        "\n",
        "trainer = new convnetjs.SGDTrainer(net, {learning_rate:0.01, momentum:0.9, batch_size:5, l2_decay:0.0});\n",
        "\n",
        "```\n",
        "\n"
      ]
    },
    {
      "cell_type": "markdown",
      "metadata": {
        "id": "YVxjNy37wdsS",
        "colab_type": "text"
      },
      "source": [
        "Network with 3 Lesions\n",
        "\n",
        "\n",
        "\n",
        "```\n",
        "layer_defs = [];\n",
        "layer_defs.push({type:'input', out_sx:1, out_sy:1, out_depth:2}); // 2 inputs: x, y \n",
        "layer_defs.push({type:'fc', num_neurons:20, activation:'relu'});\n",
        "layer_defs.push({type:'fc', num_neurons:20, activation:'relu'});\n",
        "layer_defs.push({type:'fc', num_neurons:20, activation:'relu'});\n",
        "layer_defs.push({type:'fc', num_neurons:20, activation:'relu'});\n",
        "// layer_defs.push({type:'fc', num_neurons:20, activation:'relu'});\n",
        "// layer_defs.push({type:'fc', num_neurons:20, activation:'relu'});\n",
        "// layer_defs.push({type:'fc', num_neurons:20, activation:'relu'});\n",
        "layer_defs.push({type:'regression', num_neurons:3}); // 3 outputs: r,g,b \n",
        "\n",
        "net = new convnetjs.Net();\n",
        "net.makeLayers(layer_defs);\n",
        "\n",
        "trainer = new convnetjs.SGDTrainer(net, {learning_rate:0.01, momentum:0.9, batch_size:5, l2_decay:0.0});\n",
        "\n",
        "```\n",
        "\n"
      ]
    },
    {
      "cell_type": "markdown",
      "metadata": {
        "id": "rG1eBLwMwgml",
        "colab_type": "text"
      },
      "source": [
        "Network with 4 Lesions\n",
        "\n",
        "\n",
        "\n",
        "```\n",
        "layer_defs = [];\n",
        "layer_defs.push({type:'input', out_sx:1, out_sy:1, out_depth:2}); // 2 inputs: x, y \n",
        "layer_defs.push({type:'fc', num_neurons:20, activation:'relu'});\n",
        "layer_defs.push({type:'fc', num_neurons:20, activation:'relu'});\n",
        "layer_defs.push({type:'fc', num_neurons:20, activation:'relu'});\n",
        "// layer_defs.push({type:'fc', num_neurons:20, activation:'relu'});\n",
        "// layer_defs.push({type:'fc', num_neurons:20, activation:'relu'});\n",
        "// layer_defs.push({type:'fc', num_neurons:20, activation:'relu'});\n",
        "// layer_defs.push({type:'fc', num_neurons:20, activation:'relu'});\n",
        "layer_defs.push({type:'regression', num_neurons:3}); // 3 outputs: r,g,b \n",
        "\n",
        "net = new convnetjs.Net();\n",
        "net.makeLayers(layer_defs);\n",
        "\n",
        "trainer = new convnetjs.SGDTrainer(net, {learning_rate:0.01, momentum:0.9, batch_size:5, l2_decay:0.0});\n",
        "\n",
        "```\n",
        "\n"
      ]
    },
    {
      "cell_type": "markdown",
      "metadata": {
        "id": "HUvzIby4wi4e",
        "colab_type": "text"
      },
      "source": [
        "Network with 5 Lesions\n",
        "\n",
        "\n",
        "\n",
        "```\n",
        "layer_defs = [];\n",
        "layer_defs.push({type:'input', out_sx:1, out_sy:1, out_depth:2}); // 2 inputs: x, y \n",
        "layer_defs.push({type:'fc', num_neurons:20, activation:'relu'});\n",
        "layer_defs.push({type:'fc', num_neurons:20, activation:'relu'});\n",
        "// layer_defs.push({type:'fc', num_neurons:20, activation:'relu'});\n",
        "// layer_defs.push({type:'fc', num_neurons:20, activation:'relu'});\n",
        "// layer_defs.push({type:'fc', num_neurons:20, activation:'relu'});\n",
        "// layer_defs.push({type:'fc', num_neurons:20, activation:'relu'});\n",
        "// layer_defs.push({type:'fc', num_neurons:20, activation:'relu'});\n",
        "layer_defs.push({type:'regression', num_neurons:3}); // 3 outputs: r,g,b \n",
        "\n",
        "net = new convnetjs.Net();\n",
        "net.makeLayers(layer_defs);\n",
        "\n",
        "trainer = new convnetjs.SGDTrainer(net, {learning_rate:0.01, momentum:0.9, batch_size:5, l2_decay:0.0});\n",
        "\n",
        "```\n",
        "\n"
      ]
    },
    {
      "cell_type": "markdown",
      "metadata": {
        "id": "ycZ3veRmwlDQ",
        "colab_type": "text"
      },
      "source": [
        "Network with 6 Lesions\n",
        "\n",
        "\n",
        "\n",
        "```\n",
        "layer_defs = [];\n",
        "layer_defs.push({type:'input', out_sx:1, out_sy:1, out_depth:2}); // 2 inputs: x, y \n",
        "layer_defs.push({type:'fc', num_neurons:20, activation:'relu'});\n",
        "// layer_defs.push({type:'fc', num_neurons:20, activation:'relu'});\n",
        "// layer_defs.push({type:'fc', num_neurons:20, activation:'relu'});\n",
        "// layer_defs.push({type:'fc', num_neurons:20, activation:'relu'});\n",
        "// layer_defs.push({type:'fc', num_neurons:20, activation:'relu'});\n",
        "// layer_defs.push({type:'fc', num_neurons:20, activation:'relu'});\n",
        "// layer_defs.push({type:'fc', num_neurons:20, activation:'relu'});\n",
        "layer_defs.push({type:'regression', num_neurons:3}); // 3 outputs: r,g,b \n",
        "\n",
        "net = new convnetjs.Net();\n",
        "net.makeLayers(layer_defs);\n",
        "\n",
        "trainer = new convnetjs.SGDTrainer(net, {learning_rate:0.01, momentum:0.9, batch_size:5, l2_decay:0.0});\n",
        "\n",
        "```\n",
        "\n"
      ]
    },
    {
      "cell_type": "markdown",
      "metadata": {
        "id": "9NmUtNhswmtU",
        "colab_type": "text"
      },
      "source": [
        "Network with 7 Lesions\n",
        "\n",
        "\n",
        "\n",
        "```\n",
        "layer_defs = [];\n",
        "layer_defs.push({type:'input', out_sx:1, out_sy:1, out_depth:2}); // 2 inputs: x, y \n",
        "// layer_defs.push({type:'fc', num_neurons:20, activation:'relu'});\n",
        "// layer_defs.push({type:'fc', num_neurons:20, activation:'relu'});\n",
        "// layer_defs.push({type:'fc', num_neurons:20, activation:'relu'});\n",
        "// layer_defs.push({type:'fc', num_neurons:20, activation:'relu'});\n",
        "// layer_defs.push({type:'fc', num_neurons:20, activation:'relu'});\n",
        "// layer_defs.push({type:'fc', num_neurons:20, activation:'relu'});\n",
        "// layer_defs.push({type:'fc', num_neurons:20, activation:'relu'});\n",
        "layer_defs.push({type:'regression', num_neurons:3}); // 3 outputs: r,g,b \n",
        "\n",
        "net = new convnetjs.Net();\n",
        "net.makeLayers(layer_defs);\n",
        "\n",
        "trainer = new convnetjs.SGDTrainer(net, {learning_rate:0.01, momentum:0.9, batch_size:5, l2_decay:0.0});\n",
        "\n",
        "```\n",
        "\n"
      ]
    },
    {
      "cell_type": "markdown",
      "metadata": {
        "id": "4Jaco8tviR1j",
        "colab_type": "text"
      },
      "source": [
        "# F: Adding Layers\n"
      ]
    },
    {
      "cell_type": "markdown",
      "metadata": {
        "id": "M0SZOWgSw5uE",
        "colab_type": "text"
      },
      "source": [
        "Network with 3 Layers Added\n",
        "\n",
        "\n",
        "\n",
        "```\n",
        "layer_defs = [];\n",
        "layer_defs.push({type:'input', out_sx:1, out_sy:1, out_depth:2}); // 2 inputs: x, y \n",
        "layer_defs.push({type:'fc', num_neurons:20, activation:'relu'});\n",
        "layer_defs.push({type:'fc', num_neurons:20, activation:'relu'});\n",
        "layer_defs.push({type:'fc', num_neurons:20, activation:'relu'});\n",
        "layer_defs.push({type:'fc', num_neurons:20, activation:'relu'});\n",
        "layer_defs.push({type:'fc', num_neurons:20, activation:'relu'});\n",
        "layer_defs.push({type:'fc', num_neurons:20, activation:'relu'});\n",
        "layer_defs.push({type:'fc', num_neurons:20, activation:'relu'});\n",
        "layer_defs.push({type:'fc', num_neurons:20, activation:'relu'});\n",
        "layer_defs.push({type:'fc', num_neurons:20, activation:'relu'});\n",
        "layer_defs.push({type:'fc', num_neurons:20, activation:'relu'});\n",
        "layer_defs.push({type:'regression', num_neurons:3}); // 3 outputs: r,g,b \n",
        "\n",
        "net = new convnetjs.Net();\n",
        "net.makeLayers(layer_defs);\n",
        "\n",
        "trainer = new convnetjs.SGDTrainer(net, {learning_rate:0.01, momentum:0.9, batch_size:5, l2_decay:0.0});\n",
        "\n",
        "```\n",
        "\n"
      ]
    }
  ]
}