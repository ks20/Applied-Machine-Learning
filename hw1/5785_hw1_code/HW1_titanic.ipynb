{
  "nbformat": 4,
  "nbformat_minor": 0,
  "metadata": {
    "colab": {
      "name": "HW1_titanic.ipynb",
      "provenance": [],
      "collapsed_sections": [],
      "toc_visible": true
    },
    "kernelspec": {
      "name": "python3",
      "display_name": "Python 3"
    }
  },
  "cells": [
    {
      "cell_type": "code",
      "metadata": {
        "id": "G8c2qsb5Eu1c",
        "colab_type": "code",
        "outputId": "9ec81b40-31ff-4e33-f0cf-52d3f47bff61",
        "colab": {
          "base_uri": "https://localhost:8080/",
          "height": 34
        }
      },
      "source": [
        "%pylab inline\n",
        "\n",
        "import pandas as pd\n",
        "import numpy as np\n",
        "from sklearn import preprocessing\n",
        "import matplotlib.pyplot as plt \n",
        "from sklearn.linear_model import LogisticRegression\n",
        "from sklearn.model_selection import train_test_split\n"
      ],
      "execution_count": 18,
      "outputs": [
        {
          "output_type": "stream",
          "text": [
            "Populating the interactive namespace from numpy and matplotlib\n"
          ],
          "name": "stdout"
        }
      ]
    },
    {
      "cell_type": "markdown",
      "metadata": {
        "id": "QjQG46RgCPZW",
        "colab_type": "text"
      },
      "source": [
        "# 2B\n",
        "Using logistic regression, try to predict whether a passenger survived the disaster. You can\n",
        "choose the features (or combinations of features) you would like to use or ignore, provided\n",
        "you justify your reasoning."
      ]
    },
    {
      "cell_type": "code",
      "metadata": {
        "id": "zZGJavaMCUE3",
        "colab_type": "code",
        "outputId": "1b214708-6bf8-4f63-f428-85fc86f6fc74",
        "colab": {
          "base_uri": "https://localhost:8080/",
          "height": 187
        }
      },
      "source": [
        "# Features to use:\n",
        "# Age\n",
        "# Sex\n",
        "# Fare\n",
        "# PClass\n",
        "\n",
        "# Maybes: SibSp, Parch\n",
        "\n",
        "# Import training data and select features\n",
        "df = pd.read_csv(\"train.csv\")\n",
        "df.dropna(inplace=True) # Data cleanup\n",
        "Y = df['Survived']\n",
        "X = df[[\"Pclass\", \"Sex\", \"Age\", \"Fare\"]]\n",
        "\n",
        "# Change non numeric features to numeric\n",
        "X['Sex'].replace(\"male\", 0, inplace=True)\n",
        "X['Sex'].replace(\"female\", 1, inplace=True)\n",
        "# X.fillna(X_test_total.mean(), inplace=True)\n",
        "\n",
        "# Test data; doesn't have Survived indicator\n",
        "df_test = pd.read_csv(\"test.csv\")\n",
        "X_test_total = df_test[[\"Pclass\", \"Sex\", \"Age\", \"Fare\"]]\n",
        "X_test_total['Sex'].replace(\"male\", 0, inplace=True)\n",
        "X_test_total['Sex'].replace(\"female\", 1, inplace=True)\n",
        "X_test_total.fillna(X_test_total.mean(), inplace=True)\n",
        "\n",
        "\n",
        "# Train test split since we don't have test data's survived field\n",
        "# X_train, X_test, Y_train, Y_test = train_test_split(X, Y, test_size=0.25)\n",
        "# X_test.fillna(0, inplace=True)\n"
      ],
      "execution_count": 12,
      "outputs": [
        {
          "output_type": "stream",
          "text": [
            "/usr/local/lib/python3.6/dist-packages/pandas/core/generic.py:6586: SettingWithCopyWarning: \n",
            "A value is trying to be set on a copy of a slice from a DataFrame\n",
            "\n",
            "See the caveats in the documentation: http://pandas.pydata.org/pandas-docs/stable/indexing.html#indexing-view-versus-copy\n",
            "  self._update_inplace(new_data)\n",
            "/usr/local/lib/python3.6/dist-packages/pandas/core/generic.py:6130: SettingWithCopyWarning: \n",
            "A value is trying to be set on a copy of a slice from a DataFrame\n",
            "\n",
            "See the caveats in the documentation: http://pandas.pydata.org/pandas-docs/stable/indexing.html#indexing-view-versus-copy\n",
            "  self._update_inplace(new_data)\n"
          ],
          "name": "stderr"
        }
      ]
    },
    {
      "cell_type": "code",
      "metadata": {
        "id": "BNOF3yBDGuvT",
        "colab_type": "code",
        "outputId": "80b003d7-5cba-4940-9a9e-47f91d9c0ad4",
        "colab": {
          "base_uri": "https://localhost:8080/",
          "height": 71
        }
      },
      "source": [
        "# Build and fit the Logistic Regression Model\n",
        "lr = LogisticRegression()\n",
        "\n",
        "# Fit the LR model\n",
        "lr.fit(X, Y)\n",
        "\n",
        "# Test our trained model against the test data\n",
        "Y_pred = lr.predict(X_test_total)\n",
        "\n",
        "# Save output\n",
        "np.savetxt(\"titanic_results.csv\", Y_pred, delimiter=\",\")\n",
        "\n",
        "\n",
        "# For our cross validation purposes on the training data\n",
        "# lr.fit(X_train, Y_train)\n",
        "# Y_pred = lr.predict(X_test)\n",
        "# print('Accuracy of logistic regression classifier on test set: {:.2f}'.format(lr.score(X_test, Y_test)))"
      ],
      "execution_count": 17,
      "outputs": [
        {
          "output_type": "stream",
          "text": [
            "/usr/local/lib/python3.6/dist-packages/sklearn/linear_model/logistic.py:432: FutureWarning: Default solver will be changed to 'lbfgs' in 0.22. Specify a solver to silence this warning.\n",
            "  FutureWarning)\n"
          ],
          "name": "stderr"
        }
      ]
    }
  ]
}