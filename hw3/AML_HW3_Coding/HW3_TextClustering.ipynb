{
  "nbformat": 4,
  "nbformat_minor": 0,
  "metadata": {
    "colab": {
      "name": "HW3_TextClustering.ipynb",
      "provenance": [],
      "collapsed_sections": [],
      "toc_visible": true
    },
    "kernelspec": {
      "name": "python3",
      "display_name": "Python 3"
    }
  },
  "cells": [
    {
      "cell_type": "code",
      "metadata": {
        "id": "0E1SWrJSw77F",
        "colab_type": "code",
        "colab": {}
      },
      "source": [
        "import numpy as np\n",
        "import pandas as pd\n",
        "from scipy import misc\n",
        "from matplotlib import pylab as plt\n",
        "import matplotlib.cm as cm\n",
        "from sklearn.cluster import KMeans\n",
        "\n",
        "%matplotlib inline"
      ],
      "execution_count": 0,
      "outputs": []
    },
    {
      "cell_type": "code",
      "metadata": {
        "id": "z7xJF2ZLxNGr",
        "colab_type": "code",
        "colab": {}
      },
      "source": [
        "#Data Loading for a), b)\n",
        "doc_word_matrix = np.load(\"science2k-doc-word.npy\")\n",
        "word_doc_matrix = np.load(\"science2k-word-doc.npy\")\n",
        "\n",
        "titles = pd.read_table('science2k-titles.txt', names=[\"Titles\"])\n",
        "vocab = pd.read_table('science2k-vocab.txt', names=[\"Words\"])"
      ],
      "execution_count": 0,
      "outputs": []
    },
    {
      "cell_type": "markdown",
      "metadata": {
        "id": "R35ZenReP-j0",
        "colab_type": "text"
      },
      "source": [
        "#Cluster the documents using k-means and various values of k (go up to at least k = 20)."
      ]
    },
    {
      "cell_type": "code",
      "metadata": {
        "id": "0CDOmZKe1dpd",
        "colab_type": "code",
        "colab": {}
      },
      "source": [
        "doc_word_matrix_labels = list()\n",
        "doc_word_matrix_inertia = list()\n",
        "\n",
        "for i in range(1, 21):\n",
        "  kmeans = KMeans(n_clusters=i, random_state=0).fit(doc_word_matrix)\n",
        "  doc_word_matrix_labels.append(kmeans.labels_)\n",
        "  doc_word_matrix_inertia.append(kmeans.inertia_)"
      ],
      "execution_count": 0,
      "outputs": []
    },
    {
      "cell_type": "code",
      "metadata": {
        "id": "RRWPV6LFQdaC",
        "colab_type": "code",
        "outputId": "9d803c7c-083d-4e94-85d5-256577545760",
        "colab": {
          "base_uri": "https://localhost:8080/",
          "height": 293
        }
      },
      "source": [
        "fig, ax = plt.subplots()\n",
        "ax.plot(range(1,21), doc_word_matrix_inertia, marker = \".\", color = 'blue')"
      ],
      "execution_count": 14,
      "outputs": [
        {
          "output_type": "execute_result",
          "data": {
            "text/plain": [
              "[<matplotlib.lines.Line2D at 0x7f200fe6ba58>]"
            ]
          },
          "metadata": {
            "tags": []
          },
          "execution_count": 14
        },
        {
          "output_type": "display_data",
          "data": {
            "image/png": "[encoded data removed]",
            "text/plain": [
              "<Figure size 432x288 with 1 Axes>"
            ]
          },
          "metadata": {
            "tags": []
          }
        }
      ]
    },
    {
      "cell_type": "markdown",
      "metadata": {
        "id": "D8bjECUQQD7Z",
        "colab_type": "text"
      },
      "source": [
        "#Select a value of k. For that value, report the top 10 words of each cluster in order of the largest positive distance from the average value across all data."
      ]
    },
    {
      "cell_type": "code",
      "metadata": {
        "id": "GKeJ2wO4Gpo1",
        "colab_type": "code",
        "outputId": "dcc9cc84-b102-4649-b6a2-52f40824d834",
        "colab": {
          "base_uri": "https://localhost:8080/",
          "height": 1000
        }
      },
      "source": [
        "#Select a value of k.\n",
        "k = 5\n",
        "kmeans = KMeans(n_clusters = k).fit(doc_word_matrix)\n",
        "labels = kmeans.labels_\n",
        "sorted_cluster_centers = kmeans.cluster_centers_\n",
        "x_bar = np.mean(doc_word_matrix, axis=0)\n",
        "\n",
        "for i in range(0, k):\n",
        "  sc_i = sorted_cluster_centers[i]\n",
        "  sc_i_word_diff = np.abs(sc_i - x_bar)\n",
        "  \n",
        "  sc_i_dist_diff = list()\n",
        "  for j in range(len(doc_word_matrix)):\n",
        "    diff = np.subtract(doc_word_matrix[j], sc_i - x_bar)\n",
        "    dist = np.linalg.norm(diff)\n",
        "    sc_i_dist_diff.append(dist)\n",
        "\n",
        "  words_i = np.argsort(sc_i_word_diff)[-10:][::-1]\n",
        "  docs_i = np.argsort(np.array(sc_i_dist_diff))[0:10]\n",
        "  print(\"Cluster {}’s top 10 articles: \".format(i+1))\n",
        "  print(titles.iloc[docs_i])\n",
        "  print(\"\\n\")\n",
        "  print(\"Cluster {}’s top 10 words: \".format(i+1))\n",
        "  print(vocab.iloc[words_i])\n",
        "  print('-----------------------------------------------------')"
      ],
      "execution_count": 23,
      "outputs": [
        {
          "output_type": "stream",
          "text": [
            "Cluster 1’s top 10 articles: \n",
            "                                                 Titles\n",
            "519        Algorithmic Gladiators Vie for Digital Glory\n",
            "574     Reopening the Darkest Chapter in German Science\n",
            "499     National Academy of Sciences Elects New Members\n",
            "968   Suppression of Mutations in Mitochondrial DNA ...\n",
            "777                  Divining Diet and Disease from DNA\n",
            "1214      Turning up the Heat on Histoplasma capsulatum\n",
            "90               Heretical Idea Faces Its Sternest Test\n",
            "1239                        An Arresting Start for MAPK\n",
            "431                Movement Patterns in Spoken Language\n",
            "899   How to Get along: Friendly Microbes in a Hosti...\n",
            "\n",
            "\n",
            "Cluster 1’s top 10 words: \n",
            "          Words\n",
            "1         cells\n",
            "7       protein\n",
            "5          cell\n",
            "23   expression\n",
            "17         gene\n",
            "0           fig\n",
            "161   expressed\n",
            "22     proteins\n",
            "56     specific\n",
            "67         wild\n",
            "-----------------------------------------------------\n",
            "Cluster 2’s top 10 articles: \n",
            "                                                Titles\n",
            "519       Algorithmic Gladiators Vie for Digital Glory\n",
            "90              Heretical Idea Faces Its Sternest Test\n",
            "574    Reopening the Darkest Chapter in German Science\n",
            "499    National Academy of Sciences Elects New Members\n",
            "122  Corrections and Clarifications: A Short Fe-Fe ...\n",
            "123  Corrections and Clarifications: Charon's First...\n",
            "124  Corrections and Clarifications: Unearthing Mon...\n",
            "431               Movement Patterns in Spoken Language\n",
            "302  Thermal, Catalytic, Regiospecific Functionaliz...\n",
            "777                 Divining Diet and Disease from DNA\n",
            "\n",
            "\n",
            "Cluster 2’s top 10 words: \n",
            "         Words\n",
            "0          fig\n",
            "54      energy\n",
            "95    electron\n",
            "154      shows\n",
            "89     density\n",
            "38   structure\n",
            "17        gene\n",
            "243      order\n",
            "20    observed\n",
            "128   measured\n",
            "-----------------------------------------------------\n",
            "Cluster 3’s top 10 articles: \n",
            "                                                 Titles\n",
            "574     Reopening the Darkest Chapter in German Science\n",
            "519        Algorithmic Gladiators Vie for Digital Glory\n",
            "90               Heretical Idea Faces Its Sternest Test\n",
            "499     National Academy of Sciences Elects New Members\n",
            "0                          Archaeology in the Holy Land\n",
            "122   Corrections and Clarifications: A Short Fe-Fe ...\n",
            "123   Corrections and Clarifications: Charon's First...\n",
            "124   Corrections and Clarifications: Unearthing Mon...\n",
            "139   Population Dynamical Consequences of Climate C...\n",
            "1281  The Formation of Chondrules at High Gas Pressu...\n",
            "\n",
            "\n",
            "Cluster 3’s top 10 words: \n",
            "         Words\n",
            "619  estimates\n",
            "177     global\n",
            "96      values\n",
            "278      north\n",
            "34       years\n",
            "164     period\n",
            "666   estimate\n",
            "102      lower\n",
            "152    average\n",
            "507      south\n",
            "-----------------------------------------------------\n",
            "Cluster 4’s top 10 articles: \n",
            "                                               Titles\n",
            "519      Algorithmic Gladiators Vie for Digital Glory\n",
            "574   Reopening the Darkest Chapter in German Science\n",
            "453     Information Technology Takes a Different Tack\n",
            "499   National Academy of Sciences Elects New Members\n",
            "0                        Archaeology in the Holy Land\n",
            "90             Heretical Idea Faces Its Sternest Test\n",
            "777                Divining Diet and Disease from DNA\n",
            "1          Baedeker's Guide, or Just Plain 'Trouble'?\n",
            "1124          Science Survives in Breakthrough States\n",
            "149    Vaccine Studies Stymied by Shortage of Animals\n",
            "\n",
            "\n",
            "Cluster 4’s top 10 words: \n",
            "           Words\n",
            "49          says\n",
            "185  researchers\n",
            "0            fig\n",
            "228   scientists\n",
            "269         just\n",
            "76          year\n",
            "436       people\n",
            "876          get\n",
            "34         years\n",
            "241         last\n",
            "-----------------------------------------------------\n",
            "Cluster 5’s top 10 articles: \n",
            "                                                Titles\n",
            "499    National Academy of Sciences Elects New Members\n",
            "574    Reopening the Darkest Chapter in German Science\n",
            "519       Algorithmic Gladiators Vie for Digital Glory\n",
            "90              Heretical Idea Faces Its Sternest Test\n",
            "0                         Archaeology in the Holy Land\n",
            "122  Corrections and Clarifications: A Short Fe-Fe ...\n",
            "123  Corrections and Clarifications: Charon's First...\n",
            "124  Corrections and Clarifications: Unearthing Mon...\n",
            "453      Information Technology Takes a Different Tack\n",
            "777                 Divining Diet and Disease from DNA\n",
            "\n",
            "\n",
            "Cluster 5’s top 10 words: \n",
            "              Words\n",
            "0               fig\n",
            "444            mail\n",
            "24            shown\n",
            "64          reports\n",
            "20         observed\n",
            "13            start\n",
            "403  correspondence\n",
            "59         function\n",
            "129    respectively\n",
            "358       addressed\n",
            "-----------------------------------------------------\n"
          ],
          "name": "stdout"
        }
      ]
    },
    {
      "cell_type": "markdown",
      "metadata": {
        "id": "vH36XJdlQFKJ",
        "colab_type": "text"
      },
      "source": [
        "#b)\n",
        "This matrix is 5476×1373, where each row is a term in Science described by 1373 “document” features. These are transformed document frequencies (as above). Repeat the analysis above, but cluster terms instead of documents. The terms are listed in science2k-vocab.txt\n",
        "Comment on these results. How might such an algorithm be useful? What is different about clustering terms from clustering documents?"
      ]
    },
    {
      "cell_type": "code",
      "metadata": {
        "id": "XxYY_smA85VS",
        "colab_type": "code",
        "colab": {}
      },
      "source": [
        "word_doc_matrix_labels = []\n",
        "word_doc_matrix_inertia = []\n",
        "\n",
        "for i in range(1, 21):\n",
        "  kmeans = KMeans(n_clusters=i, random_state=0).fit(word_doc_matrix)\n",
        "  word_doc_matrix_labels.append(kmeans.labels_)\n",
        "  word_doc_matrix_inertia.append(kmeans.inertia_)"
      ],
      "execution_count": 0,
      "outputs": []
    },
    {
      "cell_type": "code",
      "metadata": {
        "id": "xcaWoPqL9Ie9",
        "colab_type": "code",
        "colab": {
          "base_uri": "https://localhost:8080/",
          "height": 293
        },
        "outputId": "76c99c80-14fc-4bf2-b283-d987da5f9f69"
      },
      "source": [
        "fig, ax = plt.subplots()\n",
        "ax.plot(range(1,21), word_doc_matrix_inertia, marker = \".\", color = 'red')"
      ],
      "execution_count": 6,
      "outputs": [
        {
          "output_type": "execute_result",
          "data": {
            "text/plain": [
              "[<matplotlib.lines.Line2D at 0x7f36cfc61b00>]"
            ]
          },
          "metadata": {
            "tags": []
          },
          "execution_count": 6
        },
        {
          "output_type": "display_data",
          "data": {
            "image/png": "[encoded data removed]",
            "text/plain": [
              "<Figure size 432x288 with 1 Axes>"
            ]
          },
          "metadata": {
            "tags": []
          }
        }
      ]
    },
    {
      "cell_type": "code",
      "metadata": {
        "id": "03YYrtLjZ_XZ",
        "colab_type": "code",
        "outputId": "9fb605af-c3a1-4e06-a446-e987d6c6c9e9",
        "colab": {
          "base_uri": "https://localhost:8080/",
          "height": 1000
        }
      },
      "source": [
        "#Select a value of k.\n",
        "k = 5\n",
        "kmeans = KMeans(n_clusters = k).fit(doc_word_matrix)\n",
        "labels = kmeans.labels_\n",
        "sorted_cluster_centers = kmeans.cluster_centers_\n",
        "\n",
        "x_bar_2 = np.mean(doc_word_matrix, axis=0)\n",
        "\n",
        "for i in range(0, k):\n",
        "  sc_i = sorted_cluster_centers[i]\n",
        "  sc_i_word_diff = np.abs(sc_i - x_bar_2)\n",
        "  \n",
        "  sc_i_dist_diff = list()\n",
        "  for j in range(len(doc_word_matrix)):\n",
        "    diff = np.subtract(doc_word_matrix[j], sc_i - x_bar_2)\n",
        "    dist = np.linalg.norm(diff)\n",
        "    sc_i_dist_diff.append(dist)\n",
        "  \n",
        "  words_i = np.argsort(sc_i_word_diff)[0:10]\n",
        "  docs_i = np.argsort(np.array(sc_i_dist_diff))[-10:][::-1]\n",
        "  print(\"Cluster {}’s top 10 articles: \".format(i+1))\n",
        "  print(titles.iloc[docs_i])\n",
        "  print(\"\\n\")\n",
        "  print(\"Cluster {}’s top 10 words: \".format(i+1))\n",
        "  print(vocab.iloc[words_i])\n",
        "  print('-----------------------------------------------------')"
      ],
      "execution_count": 0,
      "outputs": [
        {
          "output_type": "stream",
          "text": [
            "Cluster 1’s top 10 articles: \n",
            "                                                 Titles\n",
            "1242                      Atom-Scale Research Gets Real\n",
            "325      The Genome Sequence of Drosophila melanogaster\n",
            "402                                  A Mouse Chronology\n",
            "1303                    Sedimentary Rocks of Early Mars\n",
            "631   Status and Improvements of Coupled General Cir...\n",
            "837   The Complete Atomic Structure of the Large Rib...\n",
            "988          NEAR at Eros: Imaging and Spectral Results\n",
            "436   Advances in the Physics of High-Temperature Su...\n",
            "1345    Breakthrough of the Year: Genomics Comes of Age\n",
            "327              Comparative Genomics of the Eukaryotes\n",
            "\n",
            "\n",
            "Cluster 1’s top 10 words: \n",
            "               Words\n",
            "4035       virulence\n",
            "4357        bethesda\n",
            "2336      boundaries\n",
            "1613        describe\n",
            "3089            kept\n",
            "1332             mid\n",
            "1949          status\n",
            "359             five\n",
            "3704  ubiquitination\n",
            "4144        mediates\n",
            "-----------------------------------------------------\n",
            "Cluster 2’s top 10 articles: \n",
            "                                                 Titles\n",
            "325      The Genome Sequence of Drosophila melanogaster\n",
            "327              Comparative Genomics of the Eukaryotes\n",
            "1187  Breaking down Scientific Barriers to the Study...\n",
            "402                                  A Mouse Chronology\n",
            "1242                      Atom-Scale Research Gets Real\n",
            "837   The Complete Atomic Structure of the Large Rib...\n",
            "1345    Breakthrough of the Year: Genomics Comes of Age\n",
            "409                                  Infectious History\n",
            "439   Positional Syntenic Cloning and Functional Cha...\n",
            "326               A Whole-Genome Assembly of Drosophila\n",
            "\n",
            "\n",
            "Cluster 2’s top 10 words: \n",
            "               Words\n",
            "3958        versions\n",
            "5221        aromatic\n",
            "5215         pumping\n",
            "1065      contribute\n",
            "3397      suppressed\n",
            "2520  photosynthesis\n",
            "3002      prefrontal\n",
            "2504        kinetics\n",
            "5189       placement\n",
            "1475          fossil\n",
            "-----------------------------------------------------\n",
            "Cluster 3’s top 10 articles: \n",
            "                                                 Titles\n",
            "325      The Genome Sequence of Drosophila melanogaster\n",
            "327              Comparative Genomics of the Eukaryotes\n",
            "1242                      Atom-Scale Research Gets Real\n",
            "402                                  A Mouse Chronology\n",
            "1187  Breaking down Scientific Barriers to the Study...\n",
            "1303                    Sedimentary Rocks of Early Mars\n",
            "631   Status and Improvements of Coupled General Cir...\n",
            "1345    Breakthrough of the Year: Genomics Comes of Age\n",
            "837   The Complete Atomic Structure of the Large Rib...\n",
            "436   Advances in the Physics of High-Temperature Su...\n",
            "\n",
            "\n",
            "Cluster 3’s top 10 words: \n",
            "          Words\n",
            "2108      peter\n",
            "3589       ampa\n",
            "4832        dex\n",
            "5091  liposomes\n",
            "3292   albicans\n",
            "3425        ori\n",
            "5090       ssra\n",
            "2857       eyes\n",
            "4124    healthy\n",
            "3822  modulated\n",
            "-----------------------------------------------------\n",
            "Cluster 4’s top 10 articles: \n",
            "                                                 Titles\n",
            "325      The Genome Sequence of Drosophila melanogaster\n",
            "327              Comparative Genomics of the Eukaryotes\n",
            "837   The Complete Atomic Structure of the Large Rib...\n",
            "1187  Breaking down Scientific Barriers to the Study...\n",
            "1303                    Sedimentary Rocks of Early Mars\n",
            "717   Three-Dimensional Structure of the Tn5 Synapti...\n",
            "439   Positional Syntenic Cloning and Functional Cha...\n",
            "445   A Structural Framework for Deciphering the Lin...\n",
            "461   Architecture of RNA Polymerase II and Implicat...\n",
            "436   Advances in the Physics of High-Temperature Su...\n",
            "\n",
            "\n",
            "Cluster 4’s top 10 words: \n",
            "              Words\n",
            "3773          gated\n",
            "1264           rrna\n",
            "2134      glutamate\n",
            "1821        mineral\n",
            "3147        rescued\n",
            "1907  contributions\n",
            "5303        sucrose\n",
            "4748         frames\n",
            "3810    convergence\n",
            "1405        sulfate\n",
            "-----------------------------------------------------\n",
            "Cluster 5’s top 10 articles: \n",
            "                                                 Titles\n",
            "327              Comparative Genomics of the Eukaryotes\n",
            "402                                  A Mouse Chronology\n",
            "325      The Genome Sequence of Drosophila melanogaster\n",
            "1242                      Atom-Scale Research Gets Real\n",
            "1187  Breaking down Scientific Barriers to the Study...\n",
            "1345    Breakthrough of the Year: Genomics Comes of Age\n",
            "631   Status and Improvements of Coupled General Cir...\n",
            "409                                  Infectious History\n",
            "1303                    Sedimentary Rocks of Early Mars\n",
            "326               A Whole-Genome Assembly of Drosophila\n",
            "\n",
            "\n",
            "Cluster 5’s top 10 words: \n",
            "          Words\n",
            "3808   enormous\n",
            "3961       grew\n",
            "916       yield\n",
            "2519    beneath\n",
            "2696    william\n",
            "1852    degrees\n",
            "4359  resembles\n",
            "514       probe\n",
            "5288    archaea\n",
            "1599      media\n",
            "-----------------------------------------------------\n"
          ],
          "name": "stdout"
        }
      ]
    }
  ]
}