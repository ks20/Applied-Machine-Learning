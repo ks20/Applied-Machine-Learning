{
  "nbformat": 4,
  "nbformat_minor": 0,
  "metadata": {
    "colab": {
      "name": "HW3_EMAlgo.ipynb",
      "provenance": [],
      "collapsed_sections": [],
      "toc_visible": true
    },
    "kernelspec": {
      "name": "python3",
      "display_name": "Python 3"
    }
  },
  "cells": [
    {
      "cell_type": "code",
      "metadata": {
        "id": "EHUKL7Rn0_qk",
        "colab_type": "code",
        "colab": {}
      },
      "source": [
        "import numpy as np\n",
        "import pandas as pd\n",
        "import matplotlib.cm as cm\n",
        "import random\n",
        "\n",
        "from scipy import misc\n",
        "from matplotlib import pylab as plt\n",
        "from scipy.stats import multivariate_normal\n",
        "from sklearn.datasets import make_spd_matrix\n",
        "from sklearn.cluster import KMeans\n",
        "from sklearn.preprocessing import StandardScaler\n",
        "from sklearn.mixture import GaussianMixture as GM\n",
        "\n",
        "%matplotlib inline"
      ],
      "execution_count": 0,
      "outputs": []
    },
    {
      "cell_type": "markdown",
      "metadata": {
        "id": "w_mzZPMhBVP6",
        "colab_type": "text"
      },
      "source": [
        "#b)"
      ]
    },
    {
      "cell_type": "code",
      "metadata": {
        "id": "AQ8TpYzm2t_7",
        "colab_type": "code",
        "outputId": "b1edebd5-d740-4c60-8f81-49fa76c36c3d",
        "colab": {
          "base_uri": "https://localhost:8080/",
          "height": 279
        }
      },
      "source": [
        "raw_data = pd.read_fwf('http://www.stat.cmu.edu/~larry/all-of-statistics/=data/faithful.dat')\n",
        "raw_data = pd.DataFrame(raw_data[13:].values, columns=['raw'])\n",
        "raw_data = raw_data.raw.to_list()\n",
        "\n",
        "clean_data = list()\n",
        "for row in raw_data:\n",
        "  row = row.split(\" \")[1:]\n",
        "  new_row = list()\n",
        "  for elem in row:\n",
        "    if len(elem) > 0:\n",
        "      if '.' in elem:\n",
        "        new_row.append(float(elem))\n",
        "      else:\n",
        "        new_row.append(int(elem))\n",
        "  clean_data.append(new_row)\n",
        "\n",
        "cols = [\"eruptions\", \"waiting\"]\n",
        "train_data = pd.DataFrame(data=clean_data, columns=cols)\n",
        "ax1 = train_data.plot.scatter(x='eruptions', y='waiting')"
      ],
      "execution_count": 7,
      "outputs": [
        {
          "output_type": "display_data",
          "data": {
            "image/png": "[encoded data removed]",
            "text/plain": [
              "<Figure size 432x288 with 1 Axes>"
            ]
          },
          "metadata": {
            "tags": []
          }
        }
      ]
    },
    {
      "cell_type": "code",
      "metadata": {
        "id": "5tiBl0r-R5SG",
        "colab_type": "code",
        "colab": {
          "base_uri": "https://localhost:8080/",
          "height": 359
        },
        "outputId": "97db9bc7-fa71-4d8c-961a-d4af45e7e160"
      },
      "source": [
        "train_data.head(10)"
      ],
      "execution_count": 8,
      "outputs": [
        {
          "output_type": "execute_result",
          "data": {
            "text/html": [
              "<div>\n",
              "<style scoped>\n",
              "    .dataframe tbody tr th:only-of-type {\n",
              "        vertical-align: middle;\n",
              "    }\n",
              "\n",
              "    .dataframe tbody tr th {\n",
              "        vertical-align: top;\n",
              "    }\n",
              "\n",
              "    .dataframe thead th {\n",
              "        text-align: right;\n",
              "    }\n",
              "</style>\n",
              "<table border=\"1\" class=\"dataframe\">\n",
              "  <thead>\n",
              "    <tr style=\"text-align: right;\">\n",
              "      <th></th>\n",
              "      <th>eruptions</th>\n",
              "      <th>waiting</th>\n",
              "    </tr>\n",
              "  </thead>\n",
              "  <tbody>\n",
              "    <tr>\n",
              "      <th>0</th>\n",
              "      <td>3.600</td>\n",
              "      <td>79</td>\n",
              "    </tr>\n",
              "    <tr>\n",
              "      <th>1</th>\n",
              "      <td>1.800</td>\n",
              "      <td>54</td>\n",
              "    </tr>\n",
              "    <tr>\n",
              "      <th>2</th>\n",
              "      <td>3.333</td>\n",
              "      <td>74</td>\n",
              "    </tr>\n",
              "    <tr>\n",
              "      <th>3</th>\n",
              "      <td>2.283</td>\n",
              "      <td>62</td>\n",
              "    </tr>\n",
              "    <tr>\n",
              "      <th>4</th>\n",
              "      <td>4.533</td>\n",
              "      <td>85</td>\n",
              "    </tr>\n",
              "    <tr>\n",
              "      <th>5</th>\n",
              "      <td>2.883</td>\n",
              "      <td>55</td>\n",
              "    </tr>\n",
              "    <tr>\n",
              "      <th>6</th>\n",
              "      <td>4.700</td>\n",
              "      <td>88</td>\n",
              "    </tr>\n",
              "    <tr>\n",
              "      <th>7</th>\n",
              "      <td>3.600</td>\n",
              "      <td>85</td>\n",
              "    </tr>\n",
              "    <tr>\n",
              "      <th>8</th>\n",
              "      <td>1.950</td>\n",
              "      <td>51</td>\n",
              "    </tr>\n",
              "    <tr>\n",
              "      <th>9</th>\n",
              "      <td>4.350</td>\n",
              "      <td>85</td>\n",
              "    </tr>\n",
              "  </tbody>\n",
              "</table>\n",
              "</div>"
            ],
            "text/plain": [
              "   eruptions  waiting\n",
              "0      3.600       79\n",
              "1      1.800       54\n",
              "2      3.333       74\n",
              "3      2.283       62\n",
              "4      4.533       85\n",
              "5      2.883       55\n",
              "6      4.700       88\n",
              "7      3.600       85\n",
              "8      1.950       51\n",
              "9      4.350       85"
            ]
          },
          "metadata": {
            "tags": []
          },
          "execution_count": 8
        }
      ]
    },
    {
      "cell_type": "markdown",
      "metadata": {
        "id": "hse8dYcHBW-m",
        "colab_type": "text"
      },
      "source": [
        "#c)"
      ]
    },
    {
      "cell_type": "code",
      "metadata": {
        "id": "3B0crZdrgTGn",
        "colab_type": "code",
        "colab": {
          "base_uri": "https://localhost:8080/",
          "height": 343
        },
        "outputId": "4e744675-4a5d-428f-a1c3-86ef9344fd87"
      },
      "source": [
        "total_means = list()\n",
        "init_means = np.array([[80, 2], [60, 4.5]]).T\n",
        "\n",
        "for i in range(1, 10):\n",
        "  gmm_model = GM(2, covariance_type=\"spherical\", means_init = init_means, tol=1e-5, max_iter=i)\n",
        "  gmm_model.fit(train_data.values)\n",
        "  total_means.append(gmm_model.means_)"
      ],
      "execution_count": 9,
      "outputs": [
        {
          "output_type": "stream",
          "text": [
            "/usr/local/lib/python3.6/dist-packages/sklearn/mixture/base.py:265: ConvergenceWarning: Initialization 1 did not converge. Try different init parameters, or increase max_iter, tol or check for degenerate data.\n",
            "  % (init + 1), ConvergenceWarning)\n",
            "/usr/local/lib/python3.6/dist-packages/sklearn/mixture/base.py:265: ConvergenceWarning: Initialization 1 did not converge. Try different init parameters, or increase max_iter, tol or check for degenerate data.\n",
            "  % (init + 1), ConvergenceWarning)\n",
            "/usr/local/lib/python3.6/dist-packages/sklearn/mixture/base.py:265: ConvergenceWarning: Initialization 1 did not converge. Try different init parameters, or increase max_iter, tol or check for degenerate data.\n",
            "  % (init + 1), ConvergenceWarning)\n",
            "/usr/local/lib/python3.6/dist-packages/sklearn/mixture/base.py:265: ConvergenceWarning: Initialization 1 did not converge. Try different init parameters, or increase max_iter, tol or check for degenerate data.\n",
            "  % (init + 1), ConvergenceWarning)\n",
            "/usr/local/lib/python3.6/dist-packages/sklearn/mixture/base.py:265: ConvergenceWarning: Initialization 1 did not converge. Try different init parameters, or increase max_iter, tol or check for degenerate data.\n",
            "  % (init + 1), ConvergenceWarning)\n",
            "/usr/local/lib/python3.6/dist-packages/sklearn/mixture/base.py:265: ConvergenceWarning: Initialization 1 did not converge. Try different init parameters, or increase max_iter, tol or check for degenerate data.\n",
            "  % (init + 1), ConvergenceWarning)\n",
            "/usr/local/lib/python3.6/dist-packages/sklearn/mixture/base.py:265: ConvergenceWarning: Initialization 1 did not converge. Try different init parameters, or increase max_iter, tol or check for degenerate data.\n",
            "  % (init + 1), ConvergenceWarning)\n",
            "/usr/local/lib/python3.6/dist-packages/sklearn/mixture/base.py:265: ConvergenceWarning: Initialization 1 did not converge. Try different init parameters, or increase max_iter, tol or check for degenerate data.\n",
            "  % (init + 1), ConvergenceWarning)\n",
            "/usr/local/lib/python3.6/dist-packages/sklearn/mixture/base.py:265: ConvergenceWarning: Initialization 1 did not converge. Try different init parameters, or increase max_iter, tol or check for degenerate data.\n",
            "  % (init + 1), ConvergenceWarning)\n"
          ],
          "name": "stderr"
        }
      ]
    },
    {
      "cell_type": "code",
      "metadata": {
        "id": "QhbfdVeFiaUk",
        "colab_type": "code",
        "colab": {
          "base_uri": "https://localhost:8080/",
          "height": 296
        },
        "outputId": "c0df4193-3c7f-4704-ab09-ad9e7c0cd44f"
      },
      "source": [
        "plt.scatter(train_data[\"eruptions\"], train_data[\"waiting\"])\n",
        "plt.xlabel(\"eruptions\")\n",
        "plt.ylabel(\"waiting\")\n",
        "\n",
        "mean_0_0 = [entry[0,0] for entry in total_means]\n",
        "mean_0_1 = [entry[0,1] for entry in total_means]\n",
        "mean_1_0 = [entry[1,0] for entry in total_means]\n",
        "mean_1_1 = [entry[1,1] for entry in total_means]\n",
        "\n",
        "plt.plot(mean_0_0, mean_0_1, c='r') \n",
        "plt.plot(mean_1_0, mean_1_1, c='g')"
      ],
      "execution_count": 10,
      "outputs": [
        {
          "output_type": "execute_result",
          "data": {
            "text/plain": [
              "[<matplotlib.lines.Line2D at 0x7f8994c56278>]"
            ]
          },
          "metadata": {
            "tags": []
          },
          "execution_count": 10
        },
        {
          "output_type": "display_data",
          "data": {
            "image/png": "[encoded data removed]",
            "text/plain": [
              "<Figure size 432x288 with 1 Axes>"
            ]
          },
          "metadata": {
            "tags": []
          }
        }
      ]
    },
    {
      "cell_type": "code",
      "metadata": {
        "id": "y23OIJImmppq",
        "colab_type": "code",
        "colab": {
          "base_uri": "https://localhost:8080/",
          "height": 316
        },
        "outputId": "6d830659-a277-4a36-fc05-678e27e88bf3"
      },
      "source": [
        "total_count = []\n",
        "\n",
        "for i in range(0, 50): \n",
        "  randk = np.random.choice(train_data.values.shape[0], 2, replace=False)\n",
        "  init_means = train_data.values[randk]\n",
        "  gmm_model = GM(2, covariance_type=\"spherical\", init_params=\"random\", tol=1e-5, means_init=init_means)\n",
        "  gmm_model.fit(train_data.values)\n",
        "  total_count.append(gmm_model.n_iter_)\n",
        "\n",
        "plt.hist(total_count)"
      ],
      "execution_count": 11,
      "outputs": [
        {
          "output_type": "execute_result",
          "data": {
            "text/plain": [
              "(array([ 3.,  6.,  3.,  8.,  6.,  4., 12.,  7.,  0.,  1.]),\n",
              " array([ 5. ,  6.1,  7.2,  8.3,  9.4, 10.5, 11.6, 12.7, 13.8, 14.9, 16. ]),\n",
              " <a list of 10 Patch objects>)"
            ]
          },
          "metadata": {
            "tags": []
          },
          "execution_count": 11
        },
        {
          "output_type": "display_data",
          "data": {
            "image/png": "[encoded data removed]",
            "text/plain": [
              "<Figure size 432x288 with 1 Axes>"
            ]
          },
          "metadata": {
            "tags": []
          }
        }
      ]
    },
    {
      "cell_type": "markdown",
      "metadata": {
        "id": "xDq_paPG_Lup",
        "colab_type": "text"
      },
      "source": [
        "#d)"
      ]
    },
    {
      "cell_type": "code",
      "metadata": {
        "id": "xznB4q_BCO0S",
        "colab_type": "code",
        "outputId": "fea64b2f-a85d-4655-8400-b333778295a4",
        "colab": {
          "base_uri": "https://localhost:8080/",
          "height": 283
        }
      },
      "source": [
        "# Code implementation courtesy of https://github.com/WeimingZhang/CS5785-Applied-Machine-Learning/blob/master/Homework3/Question2.ipynb\n",
        "X_std = StandardScaler().fit_transform(train_data)\n",
        "km = KMeans(n_clusters=2, random_state=150).fit_predict(train_data)\n",
        "\n",
        "plt.figure(1)\n",
        "plt.scatter(X_std[km == 0][:,0], X_std[km == 0][:,1], c='pink')\n",
        "plt.scatter(X_std[km == 1][:,0], X_std[km == 1][:,1], c=u'b')"
      ],
      "execution_count": 14,
      "outputs": [
        {
          "output_type": "execute_result",
          "data": {
            "text/plain": [
              "<matplotlib.collections.PathCollection at 0x7f8994aae160>"
            ]
          },
          "metadata": {
            "tags": []
          },
          "execution_count": 14
        },
        {
          "output_type": "display_data",
          "data": {
            "image/png": "[encoded data removed]",
            "text/plain": [
              "<Figure size 432x288 with 1 Axes>"
            ]
          },
          "metadata": {
            "tags": []
          }
        }
      ]
    }
  ]
}